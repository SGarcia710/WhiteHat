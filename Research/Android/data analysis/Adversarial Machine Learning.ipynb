{
 "cells": [
  {
   "cell_type": "code",
   "execution_count": 30,
   "metadata": {},
   "outputs": [],
   "source": [
    "import numpy as np\n",
    "import pandas as pd\n",
    "import scipy\n",
    "from gym import error, spaces, utils\n",
    "from collections import OrderedDict\n",
    "from joblib import dump, load"
   ]
  },
  {
   "cell_type": "markdown",
   "metadata": {},
   "source": [
    "Due to my dimensions space is 330 I'm going to take only a part of them, specifically, the most significant permissions both benign and malicious"
   ]
  },
  {
   "cell_type": "code",
   "execution_count": 100,
   "metadata": {},
   "outputs": [],
   "source": [
    "np.random.seed(2)\n",
    "N_STATES = 8 # the length of the dimensional world, the number of permissions\n",
    "ACTIONS = scipy.math.factorial(N_STATES) # available actions, 13 combination of permissions \n",
    "EPSILON = 0.9 # greedy factor\n",
    "ALPHA = 0.1  # learning rate\n",
    "GAMMA = 0.9 # discount factor\n",
    "MAX_EPISODES = 13 # maximum episodes\n",
    "FRESH_TIME = 0.3 # fresh time for one move \n",
    "permissions_names= ['android.permission.INTERNET',                  \n",
    "'android.permission.READ_PHONE_STATE',          \n",
    "'android.permission.ACCESS_NETWORK_STATE',      \n",
    "'android.permission.WRITE_EXTERNAL_STORAGE',    \n",
    "'android.permission.ACCESS_WIFI_STATE',         \n",
    "'android.permission.READ_SMS',                  \n",
    "'android.permission.WRITE_SMS',                 \n",
    "'android.permission.RECEIVE_BOOT_COMPLETED']\n",
    "complete_permissions = pd.read_csv('../../datasets/android_permissions.csv', header=0, sep=';')"
   ]
  },
  {
   "cell_type": "code",
   "execution_count": 101,
   "metadata": {
    "scrolled": true
   },
   "outputs": [
    {
     "name": "stdout",
     "output_type": "stream",
     "text": [
      "<class 'pandas.core.frame.DataFrame'>\n",
      "RangeIndex: 1 entries, 0 to 0\n",
      "Columns: 331 entries, android to type\n",
      "dtypes: float64(331)\n",
      "memory usage: 2.7 KB\n"
     ]
    }
   ],
   "source": [
    "complete_permissions.drop(complete_permissions.index, inplace=True)\n",
    "complete_permissions = pd.DataFrame(np.zeros((1,len(list(complete_permissions.columns.values)))), columns=list(complete_permissions.columns.values)).append(complete_permissions, ignore_index=True).copy()\n",
    "complete_permissions.info()"
   ]
  },
  {
   "cell_type": "code",
   "execution_count": 102,
   "metadata": {},
   "outputs": [],
   "source": [
    "complete_permissions = complete_permissions.drop('type', axis=1).copy()\n",
    "complete_permissions = complete_permissions.drop('android', axis=1).copy()"
   ]
  },
  {
   "cell_type": "code",
   "execution_count": 103,
   "metadata": {},
   "outputs": [
    {
     "name": "stdout",
     "output_type": "stream",
     "text": [
      "<class 'pandas.core.frame.DataFrame'>\n",
      "RangeIndex: 1 entries, 0 to 0\n",
      "Columns: 329 entries, android.app.cts.permission.TEST_GRANTED to test_permission\n",
      "dtypes: float64(329)\n",
      "memory usage: 2.6 KB\n"
     ]
    }
   ],
   "source": [
    "complete_permissions.info()"
   ]
  },
  {
   "cell_type": "code",
   "execution_count": 25,
   "metadata": {},
   "outputs": [
    {
     "data": {
      "text/html": [
       "<div>\n",
       "<style scoped>\n",
       "    .dataframe tbody tr th:only-of-type {\n",
       "        vertical-align: middle;\n",
       "    }\n",
       "\n",
       "    .dataframe tbody tr th {\n",
       "        vertical-align: top;\n",
       "    }\n",
       "\n",
       "    .dataframe thead th {\n",
       "        text-align: right;\n",
       "    }\n",
       "</style>\n",
       "<table border=\"1\" class=\"dataframe\">\n",
       "  <thead>\n",
       "    <tr style=\"text-align: right;\">\n",
       "      <th></th>\n",
       "      <th>android.permission.INTERNET</th>\n",
       "      <th>android.permission.READ_PHONE_STATE</th>\n",
       "      <th>android.permission.ACCESS_NETWORK_STATE</th>\n",
       "      <th>android.permission.WRITE_EXTERNAL_STORAGE</th>\n",
       "      <th>android.permission.ACCESS_WIFI_STATE</th>\n",
       "      <th>android.permission.READ_SMS</th>\n",
       "      <th>android.permission.WRITE_SMS</th>\n",
       "      <th>android.permission.RECEIVE_BOOT_COMPLETED</th>\n",
       "    </tr>\n",
       "  </thead>\n",
       "  <tbody>\n",
       "    <tr>\n",
       "      <th>0</th>\n",
       "      <td>0.0</td>\n",
       "      <td>0.0</td>\n",
       "      <td>0.0</td>\n",
       "      <td>0.0</td>\n",
       "      <td>0.0</td>\n",
       "      <td>0.0</td>\n",
       "      <td>0.0</td>\n",
       "      <td>0.0</td>\n",
       "    </tr>\n",
       "    <tr>\n",
       "      <th>1</th>\n",
       "      <td>0.0</td>\n",
       "      <td>0.0</td>\n",
       "      <td>0.0</td>\n",
       "      <td>0.0</td>\n",
       "      <td>0.0</td>\n",
       "      <td>0.0</td>\n",
       "      <td>0.0</td>\n",
       "      <td>0.0</td>\n",
       "    </tr>\n",
       "    <tr>\n",
       "      <th>2</th>\n",
       "      <td>0.0</td>\n",
       "      <td>0.0</td>\n",
       "      <td>0.0</td>\n",
       "      <td>0.0</td>\n",
       "      <td>0.0</td>\n",
       "      <td>0.0</td>\n",
       "      <td>0.0</td>\n",
       "      <td>0.0</td>\n",
       "    </tr>\n",
       "    <tr>\n",
       "      <th>3</th>\n",
       "      <td>0.0</td>\n",
       "      <td>0.0</td>\n",
       "      <td>0.0</td>\n",
       "      <td>0.0</td>\n",
       "      <td>0.0</td>\n",
       "      <td>0.0</td>\n",
       "      <td>0.0</td>\n",
       "      <td>0.0</td>\n",
       "    </tr>\n",
       "    <tr>\n",
       "      <th>4</th>\n",
       "      <td>0.0</td>\n",
       "      <td>0.0</td>\n",
       "      <td>0.0</td>\n",
       "      <td>0.0</td>\n",
       "      <td>0.0</td>\n",
       "      <td>0.0</td>\n",
       "      <td>0.0</td>\n",
       "      <td>0.0</td>\n",
       "    </tr>\n",
       "  </tbody>\n",
       "</table>\n",
       "</div>"
      ],
      "text/plain": [
       "   android.permission.INTERNET  android.permission.READ_PHONE_STATE  \\\n",
       "0                          0.0                                  0.0   \n",
       "1                          0.0                                  0.0   \n",
       "2                          0.0                                  0.0   \n",
       "3                          0.0                                  0.0   \n",
       "4                          0.0                                  0.0   \n",
       "\n",
       "   android.permission.ACCESS_NETWORK_STATE  \\\n",
       "0                                      0.0   \n",
       "1                                      0.0   \n",
       "2                                      0.0   \n",
       "3                                      0.0   \n",
       "4                                      0.0   \n",
       "\n",
       "   android.permission.WRITE_EXTERNAL_STORAGE  \\\n",
       "0                                        0.0   \n",
       "1                                        0.0   \n",
       "2                                        0.0   \n",
       "3                                        0.0   \n",
       "4                                        0.0   \n",
       "\n",
       "   android.permission.ACCESS_WIFI_STATE  android.permission.READ_SMS  \\\n",
       "0                                   0.0                          0.0   \n",
       "1                                   0.0                          0.0   \n",
       "2                                   0.0                          0.0   \n",
       "3                                   0.0                          0.0   \n",
       "4                                   0.0                          0.0   \n",
       "\n",
       "   android.permission.WRITE_SMS  android.permission.RECEIVE_BOOT_COMPLETED  \n",
       "0                           0.0                                        0.0  \n",
       "1                           0.0                                        0.0  \n",
       "2                           0.0                                        0.0  \n",
       "3                           0.0                                        0.0  \n",
       "4                           0.0                                        0.0  "
      ]
     },
     "execution_count": 25,
     "metadata": {},
     "output_type": "execute_result"
    }
   ],
   "source": [
    "def build_q_table(n_states, actions):\n",
    "    table = pd.DataFrame(\n",
    "    np.zeros((actions, n_states)), # q_table initial values\n",
    "    columns = permissions_names # permissions\n",
    "    )\n",
    "    return table\n",
    "\n",
    "build_q_table(N_STATES, ACTIONS).head()"
   ]
  },
  {
   "cell_type": "code",
   "execution_count": 28,
   "metadata": {},
   "outputs": [
    {
     "data": {
      "text/plain": [
       "'android.permission.INTERNET'"
      ]
     },
     "execution_count": 28,
     "metadata": {},
     "output_type": "execute_result"
    }
   ],
   "source": [
    "def choose_action(state, q_table):\n",
    "    # This is how to choose an action\n",
    "    state_actions = q_table.iloc[state, :]\n",
    "    if (np.random.uniform() > EPSILON) or ((state_actions == 0).all()):  # act non-greedy or state-action have no value\n",
    "        action_name = np.random.choice(permissions_names)\n",
    "    else:   # act greedy\n",
    "        action_name = state_actions.idxmax()    # replace argmax to idxmax as argmax means a different function in newer version of pandas\n",
    "    return action_name\n",
    "\n",
    "choose_action(1, build_q_table(N_STATES, ACTIONS))"
   ]
  },
  {
   "cell_type": "markdown",
   "metadata": {},
   "source": [
    "Let's create the environment which interacts with the defense model. First, I'm going to load the model previously trained in <a href=\"data analysis - Android.ipynb\">Android Notebook </a>"
   ]
  },
  {
   "cell_type": "code",
   "execution_count": 31,
   "metadata": {},
   "outputs": [],
   "source": [
    "clf = load('defense.joblib') "
   ]
  },
  {
   "cell_type": "code",
   "execution_count": 104,
   "metadata": {},
   "outputs": [
    {
     "name": "stdout",
     "output_type": "stream",
     "text": [
      "[0]\n"
     ]
    }
   ],
   "source": [
    "def get_env_feedback(S, A):\n",
    "    # This is how agent will interact with the environment\n",
    "    pred = clf.predict(S)\n",
    "    if pred == 0:    # it is detected as benign \n",
    "    #    if S == N_STATES - 2:   # terminate\n",
    "    #        S_ = 'terminal'\n",
    "    #        R = 1\n",
    "    #    else:\n",
    "    #        S_ = S + 1\n",
    "    #        R = 0\n",
    "    #else:   # move left\n",
    "    #    R = 0\n",
    "    #    if S == 0:\n",
    "    #        S_ = S  # reach the wall\n",
    "    #    else:\n",
    "    #        S_ = S - 1\n",
    "    #return S_, R\n",
    "get_env_feedback(complete_permissions, 0)"
   ]
  }
 ],
 "metadata": {
  "kernelspec": {
   "display_name": "Python 3",
   "language": "python",
   "name": "python3"
  },
  "language_info": {
   "codemirror_mode": {
    "name": "ipython",
    "version": 3
   },
   "file_extension": ".py",
   "mimetype": "text/x-python",
   "name": "python",
   "nbconvert_exporter": "python",
   "pygments_lexer": "ipython3",
   "version": "3.6.6"
  }
 },
 "nbformat": 4,
 "nbformat_minor": 2
}
